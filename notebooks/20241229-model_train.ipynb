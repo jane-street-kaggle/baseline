{
 "cells": [
  {
   "cell_type": "code",
   "id": "initial_id",
   "metadata": {
    "collapsed": true,
    "ExecuteTime": {
     "end_time": "2024-12-27T14:45:23.394659Z",
     "start_time": "2024-12-27T14:45:23.388149Z"
    }
   },
   "source": [
    "import pandas as pd\n",
    "import numpy as np\n",
    "import seaborn as sns\n",
    "import matplotlib.pyplot as plt\n",
    "import lightgbm as lgb\n",
    "import warnings\n",
    "warnings.filterwarnings('ignore')"
   ],
   "outputs": [],
   "execution_count": 3
  },
  {
   "cell_type": "code",
   "id": "a1051fd8",
   "metadata": {
    "ExecuteTime": {
     "end_time": "2024-12-27T14:45:31.042102Z",
     "start_time": "2024-12-27T14:45:23.406443Z"
    }
   },
   "source": [
    "def read_parquet_partitions(base_path: str, partitions: int = 10) -> pd.DataFrame:\n",
    "    dfs = []\n",
    "    for partition in range(partitions):\n",
    "        path = f'{base_path}/partition_id={partition}/part-0.parquet'\n",
    "        df = pd.read_parquet(path)\n",
    "        dfs.append(df)\n",
    "\n",
    "    return pd.concat(dfs, ignore_index=True)\n",
    "\n",
    "# Usage\n",
    "data = read_parquet_partitions('kaggle/data/train.parquet')"
   ],
   "outputs": [],
   "execution_count": 4
  },
  {
   "cell_type": "code",
   "id": "7ca94ac6f6f41048",
   "metadata": {
    "ExecuteTime": {
     "end_time": "2024-12-27T14:45:37.991677Z",
     "start_time": "2024-12-27T14:45:31.052063Z"
    }
   },
   "source": [
    "df = data.dropna()"
   ],
   "outputs": [],
   "execution_count": 5
  },
  {
   "cell_type": "code",
   "id": "f706b0a0f0d6c26c",
   "metadata": {
    "ExecuteTime": {
     "end_time": "2024-12-27T14:45:38.054091Z",
     "start_time": "2024-12-27T14:45:38.045496Z"
    }
   },
   "source": [
    "df_length = df.shape[0]\n",
    "valid_ratio = 0.10\n",
    "train_data = df[:df_length - int(df_length*valid_ratio)]\n",
    "valid_data = df[df_length - int(df_length*valid_ratio):]\n",
    "\n",
    "train_data.shape, valid_data.shape"
   ],
   "outputs": [
    {
     "data": {
      "text/plain": [
       "((31833740, 92), (3537082, 92))"
      ]
     },
     "execution_count": 6,
     "metadata": {},
     "output_type": "execute_result"
    }
   ],
   "execution_count": 6
  },
  {
   "cell_type": "code",
   "id": "d6cd31a830a49842",
   "metadata": {
    "ExecuteTime": {
     "end_time": "2024-12-27T14:45:38.390447Z",
     "start_time": "2024-12-27T14:45:38.388260Z"
    }
   },
   "source": [
    "feature_col = ['time_id', 'symbol_id'] + df.columns[df.columns.str.contains('feature')].tolist()"
   ],
   "outputs": [],
   "execution_count": 7
  },
  {
   "cell_type": "code",
   "id": "b0de330cfa2cdd52",
   "metadata": {
    "ExecuteTime": {
     "end_time": "2024-12-27T14:45:38.428959Z",
     "start_time": "2024-12-27T14:45:38.423472Z"
    }
   },
   "source": [
    "def calculate_r2(y_true, y_pred, weights):\n",
    "    numerator = np.sum(weights * (y_true - y_pred) ** 2)\n",
    "    denominator = np.sum(weights * (y_true ** 2))\n",
    "    r2_score = 1 - (numerator / denominator)\n",
    "    return r2_score"
   ],
   "outputs": [],
   "execution_count": 8
  },
  {
   "cell_type": "code",
   "id": "217622bc42dcb791",
   "metadata": {
    "ExecuteTime": {
     "end_time": "2024-12-27T14:45:38.495604Z",
     "start_time": "2024-12-27T14:45:38.493859Z"
    }
   },
   "source": [
    "LGB_PARAMS = {\n",
    "    'objective': 'regression_l2',\n",
    "    'metric': 'rmse',\n",
    "    'learning_rate': 0.05,\n",
    "    'num_leaves': 31,\n",
    "    'max_depth': -1,\n",
    "    'random_state': 42,\n",
    "    'device': 'gpu',\n",
    "}\n",
    "\n",
    "early_stopping_callback = lgb.early_stopping(100)\n",
    "verbose_eval_callback = lgb.log_evaluation(period=50)"
   ],
   "outputs": [],
   "execution_count": 9
  },
  {
   "cell_type": "code",
   "id": "a3760adb4f016adf",
   "metadata": {
    "ExecuteTime": {
     "end_time": "2024-12-27T14:45:38.541253Z",
     "start_time": "2024-12-27T14:45:38.539780Z"
    }
   },
   "source": [],
   "outputs": [],
   "execution_count": null
  },
  {
   "cell_type": "markdown",
   "id": "f018e1c3a64c1131",
   "metadata": {},
   "source": [
    "### 0. model"
   ]
  },
  {
   "cell_type": "code",
   "id": "7593e9314d8d3da4",
   "metadata": {
    "ExecuteTime": {
     "end_time": "2024-12-27T14:49:34.080091Z",
     "start_time": "2024-12-27T14:45:38.594636Z"
    }
   },
   "source": [
    "train_ds = lgb.Dataset(train_data.loc[:, feature_col],\n",
    "                       label=train_data.loc[:, 'responder_6'])\n",
    "valid_ds = lgb.Dataset(valid_data.loc[:, feature_col],\n",
    "                       label=valid_data.loc[:, 'responder_6'])\n",
    "\n",
    "model = lgb.train(\n",
    "    LGB_PARAMS,\n",
    "    train_ds,\n",
    "    num_boost_round=1000,\n",
    "    valid_sets=[train_ds, valid_ds],\n",
    "    valid_names=['train', 'valid'],\n",
    "    callbacks=[early_stopping_callback, verbose_eval_callback],\n",
    ")"
   ],
   "outputs": [
    {
     "name": "stdout",
     "output_type": "stream",
     "text": [
      "[LightGBM] [Info] This is the GPU trainer!!\n",
      "[LightGBM] [Info] Total Bins 19736\n",
      "[LightGBM] [Info] Number of data points in the train set: 31833740, number of used features: 81\n",
      "[LightGBM] [Info] Using GPU Device: NVIDIA GeForce RTX 3060, Vendor: NVIDIA Corporation\n",
      "[LightGBM] [Info] Compiling OpenCL Kernel with 256 bins...\n",
      "[LightGBM] [Info] GPU programs have been built\n",
      "[LightGBM] [Info] Size of histogram bin entry: 8\n",
      "[LightGBM] [Info] 81 dense feature groups (2550.16 MB) transferred to GPU in 1.963214 secs. 0 sparse feature groups\n",
      "[LightGBM] [Info] Start training from score -0.004831\n",
      "Training until validation scores don't improve for 100 rounds\n",
      "[50]\ttrain's rmse: 0.825286\tvalid's rmse: 0.754016\n",
      "[100]\ttrain's rmse: 0.823233\tvalid's rmse: 0.753832\n",
      "[150]\ttrain's rmse: 0.821707\tvalid's rmse: 0.753828\n",
      "[200]\ttrain's rmse: 0.820662\tvalid's rmse: 0.753799\n",
      "[250]\ttrain's rmse: 0.819706\tvalid's rmse: 0.753804\n",
      "Early stopping, best iteration is:\n",
      "[183]\ttrain's rmse: 0.821047\tvalid's rmse: 0.75378\n"
     ]
    }
   ],
   "execution_count": 10
  },
  {
   "cell_type": "code",
   "id": "6db88a8237d355b6",
   "metadata": {
    "ExecuteTime": {
     "end_time": "2024-12-27T14:49:36.186185Z",
     "start_time": "2024-12-27T14:49:34.154991Z"
    }
   },
   "source": [
    "y_valid_pred = model.predict(valid_data.loc[:, feature_col])\n",
    "r2_score = calculate_r2(valid_data['responder_6'], y_valid_pred, valid_data['weight'])"
   ],
   "outputs": [],
   "execution_count": 11
  },
  {
   "cell_type": "code",
   "id": "82bb91d523176cf0",
   "metadata": {
    "ExecuteTime": {
     "end_time": "2024-12-27T14:49:36.201926Z",
     "start_time": "2024-12-27T14:49:36.199858Z"
    }
   },
   "source": [
    "r2_score"
   ],
   "outputs": [
    {
     "data": {
      "text/plain": [
       "np.float64(0.004748522828299517)"
      ]
     },
     "execution_count": 12,
     "metadata": {},
     "output_type": "execute_result"
    }
   ],
   "execution_count": 12
  },
  {
   "cell_type": "markdown",
   "id": "d33cda1b",
   "metadata": {},
   "source": [
    "### 1. weight 반영 모델"
   ]
  },
  {
   "cell_type": "code",
   "id": "533e794f",
   "metadata": {
    "ExecuteTime": {
     "end_time": "2024-12-27T14:55:15.817030Z",
     "start_time": "2024-12-27T14:49:36.248311Z"
    }
   },
   "source": [
    "# Dataset 생성 시 weight 파라미터 추가\n",
    "train_ds = lgb.Dataset(\n",
    "    train_data.loc[:, feature_col],\n",
    "    label=train_data.loc[:, 'responder_6'],\n",
    "    weight=train_data['weight']  # 가중치 추가\n",
    ")\n",
    "valid_ds = lgb.Dataset(\n",
    "    valid_data.loc[:, feature_col],\n",
    "    label=valid_data.loc[:, 'responder_6'],\n",
    "    weight=valid_data['weight']  # 가중치 추가\n",
    ")\n",
    "\n",
    "model = lgb.train(\n",
    "    LGB_PARAMS,\n",
    "    train_ds,\n",
    "    num_boost_round=1000,\n",
    "    valid_sets=[train_ds, valid_ds],\n",
    "    valid_names=['train', 'valid'],\n",
    "    callbacks=[early_stopping_callback, verbose_eval_callback],\n",
    ")"
   ],
   "outputs": [
    {
     "name": "stdout",
     "output_type": "stream",
     "text": [
      "[LightGBM] [Info] This is the GPU trainer!!\n",
      "[LightGBM] [Info] Total Bins 19736\n",
      "[LightGBM] [Info] Number of data points in the train set: 31833740, number of used features: 81\n",
      "[LightGBM] [Info] Using GPU Device: NVIDIA GeForce RTX 3060, Vendor: NVIDIA Corporation\n",
      "[LightGBM] [Info] Compiling OpenCL Kernel with 256 bins...\n",
      "[LightGBM] [Info] GPU programs have been built\n",
      "[LightGBM] [Info] Size of histogram bin entry: 8\n",
      "[LightGBM] [Info] 81 dense feature groups (2550.16 MB) transferred to GPU in 1.953941 secs. 0 sparse feature groups\n",
      "[LightGBM] [Info] Start training from score -0.006465\n",
      "Training until validation scores don't improve for 100 rounds\n",
      "[50]\ttrain's rmse: 0.785878\tvalid's rmse: 0.742483\n",
      "[100]\ttrain's rmse: 0.783749\tvalid's rmse: 0.742247\n",
      "[150]\ttrain's rmse: 0.781923\tvalid's rmse: 0.742165\n",
      "[200]\ttrain's rmse: 0.780667\tvalid's rmse: 0.742134\n",
      "[250]\ttrain's rmse: 0.779569\tvalid's rmse: 0.74212\n",
      "[300]\ttrain's rmse: 0.778581\tvalid's rmse: 0.74214\n",
      "[350]\ttrain's rmse: 0.777555\tvalid's rmse: 0.742124\n",
      "Early stopping, best iteration is:\n",
      "[262]\ttrain's rmse: 0.779373\tvalid's rmse: 0.742103\n"
     ]
    }
   ],
   "execution_count": 13
  },
  {
   "cell_type": "code",
   "id": "b4c9f6e0",
   "metadata": {
    "ExecuteTime": {
     "end_time": "2024-12-27T14:55:18.087244Z",
     "start_time": "2024-12-27T14:55:15.861315Z"
    }
   },
   "source": [
    "y_valid_pred = model.predict(valid_data.loc[:, feature_col])\n",
    "r2_score = calculate_r2(valid_data['responder_6'], y_valid_pred, valid_data['weight'])"
   ],
   "outputs": [],
   "execution_count": 14
  },
  {
   "cell_type": "code",
   "id": "616acbbc",
   "metadata": {
    "ExecuteTime": {
     "end_time": "2024-12-27T14:55:18.102148Z",
     "start_time": "2024-12-27T14:55:18.100020Z"
    }
   },
   "source": [
    "r2_score"
   ],
   "outputs": [
    {
     "data": {
      "text/plain": [
       "np.float64(0.0050985918093915394)"
      ]
     },
     "execution_count": 15,
     "metadata": {},
     "output_type": "execute_result"
    }
   ],
   "execution_count": 15
  },
  {
   "cell_type": "code",
   "id": "b90e52d0",
   "metadata": {
    "ExecuteTime": {
     "end_time": "2024-12-27T14:55:18.146977Z",
     "start_time": "2024-12-27T14:55:18.145661Z"
    }
   },
   "source": [],
   "outputs": [],
   "execution_count": null
  }
 ],
 "metadata": {
  "kernelspec": {
   "display_name": "jane_street",
   "language": "python",
   "name": "python3"
  },
  "language_info": {
   "codemirror_mode": {
    "name": "ipython",
    "version": 3
   },
   "file_extension": ".py",
   "mimetype": "text/x-python",
   "name": "python",
   "nbconvert_exporter": "python",
   "pygments_lexer": "ipython3",
   "version": "3.10.15"
  }
 },
 "nbformat": 4,
 "nbformat_minor": 5
}
